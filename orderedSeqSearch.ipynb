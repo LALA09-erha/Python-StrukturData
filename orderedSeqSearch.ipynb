{
  "nbformat": 4,
  "nbformat_minor": 0,
  "metadata": {
    "colab": {
      "name": "orderedSeqSearch.ipynb",
      "provenance": [],
      "collapsed_sections": [],
      "authorship_tag": "ABX9TyMP0KtxhmvVKVFtHoC/aMYH",
      "include_colab_link": true
    },
    "kernelspec": {
      "name": "python3",
      "display_name": "Python 3"
    },
    "language_info": {
      "name": "python"
    }
  },
  "cells": [
    {
      "cell_type": "markdown",
      "metadata": {
        "id": "view-in-github",
        "colab_type": "text"
      },
      "source": [
        "<a href=\"https://colab.research.google.com/github/LALA09-erha/Python-StrukturData/blob/master/orderedSeqSearch.ipynb\" target=\"_parent\"><img src=\"https://colab.research.google.com/assets/colab-badge.svg\" alt=\"Open In Colab\"/></a>"
      ]
    },
    {
      "cell_type": "code",
      "execution_count": 1,
      "metadata": {
        "id": "O4Jw3TDWDZDb",
        "colab": {
          "base_uri": "https://localhost:8080/"
        },
        "outputId": "fafcdb0d-9afc-4e4e-f90d-55552429331f"
      },
      "outputs": [
        {
          "output_type": "stream",
          "name": "stdout",
          "text": [
            "Posisi Data = [8] \n",
            "Jumlah Iterasi = 10\n"
          ]
        }
      ],
      "source": [
        "\n",
        "# Latihan - 2: ORDERED\n",
        "\n",
        "def orderedSeqSearch(listData, data):\n",
        "    ind = 0\n",
        "    stop = False\n",
        "    position = []\n",
        "    while ind < len(listData) and not stop:\n",
        "        if listData[ind] == data:\n",
        "            position.append(ind)\n",
        "            ind = ind+1\n",
        "\n",
        "        else:\n",
        "            if listData[ind] > data:\n",
        "                stop = True\n",
        "                ind = ind+1\n",
        "            else:\n",
        "                ind = ind+1\n",
        "\n",
        "    if position == []:\n",
        "        return ('Data tidak ada'), ind\n",
        "    else:\n",
        "        return position, ind\n",
        "\n",
        "\n",
        "a = [1, 1, 5, 5, 5, 8, 9, 10, 12, 26]\n",
        "\n",
        "[hasil, iterasi] = orderedSeqSearch(a, 12)\n",
        "print(f'Posisi Data = {hasil} \\nJumlah Iterasi = {iterasi}')\n"
      ]
    }
  ]
}